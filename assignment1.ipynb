{
 "cells": [
  {
   "cell_type": "markdown",
   "metadata": {},
   "source": [
    "Q.1)\n",
    "Ans)RAINBOW"
   ]
  },
  {
   "cell_type": "code",
   "execution_count": 3,
   "metadata": {},
   "outputs": [
    {
     "name": "stdout",
     "output_type": "stream",
     "text": [
      "LETS UPGRADE\n"
     ]
    }
   ],
   "source": [
    "#(Q.2)PRINT THE LETSUPGRADE\n",
    "print(\"LETS UPGRADE\")"
   ]
  },
  {
   "cell_type": "code",
   "execution_count": 32,
   "metadata": {},
   "outputs": [
    {
     "name": "stdout",
     "output_type": "stream",
     "text": [
      "Enter the cost price:100\n",
      "Enter the selling price:50\n",
      "Profit\n"
     ]
    }
   ],
   "source": [
    "#(Q.3)\n",
    "a=int(input(\"Enter the cost price:\"))\n",
    "b=int(input(\"Enter the selling price:\"))\n",
    "if a>b:\n",
    "    print(\"Profit\")\n",
    "elif a<b:\n",
    "    print(\"Loss\")\n",
    "else:\n",
    "    print(\"Nither\")"
   ]
  },
  {
   "cell_type": "code",
   "execution_count": 33,
   "metadata": {},
   "outputs": [
    {
     "name": "stdout",
     "output_type": "stream",
     "text": [
      "Enter the cost price:80\n",
      "Enter the selling price:100\n",
      "Loss\n"
     ]
    }
   ],
   "source": [
    "a=int(input(\"Enter the cost price:\"))\n",
    "b=int(input(\"Enter the selling price:\"))\n",
    "if a>b:\n",
    "    print(\"Profit\")\n",
    "elif a<b:\n",
    "    print(\"Loss\")\n",
    "else:\n",
    "    print(\"Nither\")"
   ]
  },
  {
   "cell_type": "code",
   "execution_count": 34,
   "metadata": {},
   "outputs": [
    {
     "name": "stdout",
     "output_type": "stream",
     "text": [
      "Enter the cost price:1000\n",
      "Enter the selling price:1000\n",
      "Nither\n"
     ]
    }
   ],
   "source": [
    "a=int(input(\"Enter the cost price:\"))\n",
    "b=int(input(\"Enter the selling price:\"))\n",
    "if a>b:\n",
    "    print(\"Profit\")\n",
    "elif a<b:\n",
    "    print(\"Loss\")\n",
    "else:\n",
    "    print(\"Nither\")"
   ]
  },
  {
   "cell_type": "code",
   "execution_count": 37,
   "metadata": {},
   "outputs": [
    {
     "name": "stdout",
     "output_type": "stream",
     "text": [
      "5\n",
      "400\n"
     ]
    }
   ],
   "source": [
    "#Q.4)\n",
    "a=80\n",
    "b=int(input(\"\"))\n",
    "c=a*b\n",
    "print(c)"
   ]
  },
  {
   "cell_type": "code",
   "execution_count": 38,
   "metadata": {},
   "outputs": [
    {
     "name": "stdout",
     "output_type": "stream",
     "text": [
      "2\n",
      "160\n"
     ]
    }
   ],
   "source": [
    "a=80\n",
    "b=int(input(\"\"))\n",
    "c=a*b\n",
    "print(c)"
   ]
  },
  {
   "cell_type": "code",
   "execution_count": null,
   "metadata": {},
   "outputs": [],
   "source": []
  }
 ],
 "metadata": {
  "kernelspec": {
   "display_name": "Python 3",
   "language": "python",
   "name": "python3"
  },
  "language_info": {
   "codemirror_mode": {
    "name": "ipython",
    "version": 3
   },
   "file_extension": ".py",
   "mimetype": "text/x-python",
   "name": "python",
   "nbconvert_exporter": "python",
   "pygments_lexer": "ipython3",
   "version": "3.8.3"
  }
 },
 "nbformat": 4,
 "nbformat_minor": 4
}
